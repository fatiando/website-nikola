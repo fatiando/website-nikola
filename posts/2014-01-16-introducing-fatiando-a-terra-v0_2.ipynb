{
 "metadata": {
  "name": ""
 },
 "nbformat": 3,
 "nbformat_minor": 0,
 "worksheets": [
  {
   "cells": [
    {
     "cell_type": "markdown",
     "metadata": {},
     "source": [
      "I am pleased to introduce to you, Fatiando a Terra v0.2!\n",
      "\n",
      "This release was a long time in the making (nearly 7 months).\n",
      "Which is largely due to the effort of building a \n",
      "[new inverse problems framework](https://github.com/leouieda/fatiando/pull/72).\n",
      "The resulting framework is the 4th implementation after two prototypes\n",
      "(a more [function oriented](http://nbviewer.ipython.org/github/leouieda/new-inversion/blob/master/trial_inversion_refactor.ipynb)\n",
      "and an [objected oriented](http://nbviewer.ipython.org/github/leouieda/new-inversion/blob/oop/trial_inversion_refactor.ipynb))\n",
      "and extensive discussions between myself and \n",
      "[Vanderlei](http://fatiando.org/people/oliverira-jr).\n",
      "\n",
      "We ended up settling with the object oriented approach, which was largely inspired by the awesome \n",
      "[scikit-learn](http://scikit-learn.org/) API.\n",
      "However, there are some fundamental differences between our framework and scikit-learn which are mostly due to the different problems both try to solve.\n",
      "In machine learn, users seem to be mainly concerned with using the adjusted mathematical model to predict new observations (data).\n",
      "Conversely, in [geophysical inversion](http://www.agilegeoscience.com/journal/2013/4/10/what-is-inversion.html)\n",
      "we are mainly interested in the estimate model itself.\n",
      "The model is what we use to shed light into the subsurface.\n",
      "\n",
      "\n",
      "Other important changes are:\n",
      "\n",
      "* 300x speed-up of fatiando.seismic.ttime2d with new Cython code\n",
      "* Various tweaks to [fatiando.vis.myv](http://fatiando.readthedocs.org/en/releases/api/vis.myv.html)\n",
      "* New [Euler deconvolution](http://fatiando.readthedocs.org/en/releases/api/gravmag.euler.html) code for potential fields\n",
      "* New gravity gradient tensor modeling with spheres in [fatiando.gravmag.sphere](http://fatiando.readthedocs.org/en/releases/api/gravmag.sphere.html) (the first by [Vanderlei](http://fatiando.org/people/oliveira-jr))\n",
      "* Better support for random numbers\n",
      "* New scalar wave 2D finite differences modeling in [fatiando.seismic.wavefd](http://fatiando.readthedocs.org/en/releases/api/seismic.wavefd.html) (the first by [Andre](http://www.fatiando.org/people/ferreira/))\n",
      "* New more stable algorithms in [fatiando.seismic.wavefd](http://fatiando.readthedocs.org/en/releases/api/seismic.wavefd.html)\n",
      "* New function to load a grid in Surfer format (first by [Henrique](http://fatiando.org/people/santos/))\n",
      "* New module [fatiando.gravmag.eqlayer](http://fatiando.readthedocs.org/en/releases/api/gravmag.eqlayer.html) for equivalent layer processing of potential fields."
     ]
    },
    {
     "cell_type": "code",
     "collapsed": false,
     "input": [],
     "language": "python",
     "metadata": {},
     "outputs": []
    }
   ],
   "metadata": {}
  }
 ]
}